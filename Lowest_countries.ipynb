{
 "cells": [
  {
   "cell_type": "code",
   "execution_count": null,
   "id": "636d42ae",
   "metadata": {},
   "outputs": [],
   "source": []
  },
  {
   "cell_type": "code",
   "execution_count": null,
   "id": "e172501b",
   "metadata": {},
   "outputs": [],
   "source": [
    "import pandas as pd\n",
    "import requests\n",
    "import numpy as np\n",
    "import matplotlib.pyplot as plt\n"
   ]
  },
  {
   "cell_type": "code",
   "execution_count": null,
   "id": "43bf0322",
   "metadata": {},
   "outputs": [],
   "source": [
    "file= \"Resources/project1_data.csv\"\n",
    "df = pd.read_csv(file)\n",
    "df.head()"
   ]
  },
  {
   "cell_type": "code",
   "execution_count": null,
   "id": "642b70e6",
   "metadata": {},
   "outputs": [],
   "source": [
    "new_df= df[df[\"IndicatorCode\"]==\"SDGAIRBODA\"]\n",
    "new_df.head()"
   ]
  },
  {
   "cell_type": "code",
   "execution_count": null,
   "id": "e0e32db8",
   "metadata": {},
   "outputs": [],
   "source": [
    "del new_df['IndicatorCode']\n",
    "del new_df['Indicator']\n",
    "del new_df['ValueType']\n",
    "del new_df['ParentLocationCode']\n",
    "del new_df['Location type']\n",
    "del new_df['Period type']\n",
    "del new_df['IsLatestYear']\n",
    "del new_df['Dim1 type']\n",
    "del new_df['Dim3 type']\n",
    "del new_df['FactValueUoM']\n",
    "del new_df['FactValueNumericLowPrefix']\n",
    "del new_df['FactValueNumericHighPrefix']\n",
    "del new_df['FactValueTranslationID']\n",
    "del new_df['FactComments']\n",
    "del new_df['Language']\n",
    "del new_df['DateModified']\n",
    "del new_df['Dim3']\n",
    "del new_df['Dim3ValueCode']\n",
    "del new_df['DataSourceDimValueCode']\n",
    "del new_df['DataSource']\n",
    "del new_df['FactValueNumericPrefix']\n",
    "del new_df['Dim2 type']\n",
    "del new_df['Dim2ValueCode']\n",
    "del new_df['SpatialDimValueCode']\n",
    "del new_df['Dim1ValueCode']\n",
    "new_df.head()"
   ]
  },
  {
   "cell_type": "code",
   "execution_count": null,
   "id": "d5081184",
   "metadata": {},
   "outputs": [],
   "source": [
    "new_df=new_df.rename(columns= {'ParentLocation':'Continent', 'FactValueNumeric': 'Average Death Rate', 'Period': 'Year', 'Dim1':'Sex', 'FactValueNumericLow': 'Regional Low Deaths', 'FactValueNumericHigh': 'Regional High Deaths',\n",
    "                      'Dim2': 'Cause of Death'})\n",
    "new_df.head()"
   ]
  },
  {
   "cell_type": "code",
   "execution_count": null,
   "id": "6b06ce1d",
   "metadata": {},
   "outputs": [],
   "source": [
    "#Which countries have the lowest total death rate for both sexes? Lowest Male? Lowest Female?\n",
    "#Looking for average death rate total\n",
    "total_df=new_df.loc[new_df['Cause of Death']=='Total']\n",
    "total_df.head()"
   ]
  },
  {
   "cell_type": "code",
   "execution_count": null,
   "id": "a4187015",
   "metadata": {},
   "outputs": [],
   "source": []
  },
  {
   "cell_type": "code",
   "execution_count": null,
   "id": "842e1948",
   "metadata": {},
   "outputs": [],
   "source": [
    "total_df_sorted= total_df.sort_values('Average Death Rate', ascending=True)\n",
    "total_df_sorted"
   ]
  },
  {
   "cell_type": "code",
   "execution_count": null,
   "id": "691a64e8",
   "metadata": {},
   "outputs": [],
   "source": [
    "both_sexes= total_df.loc[total_df['Sex']=='Both sexes']\n",
    "#both_sexes"
   ]
  },
  {
   "cell_type": "code",
   "execution_count": null,
   "id": "959f2cdc",
   "metadata": {},
   "outputs": [],
   "source": [
    "both_sexes= both_sexes.sort_values('Average Death Rate', ascending= True)\n",
    "both_sexes= both_sexes.reset_index(drop=True)\n",
    "#both_sexes.head()\n"
   ]
  },
  {
   "cell_type": "code",
   "execution_count": null,
   "id": "9aed0840",
   "metadata": {},
   "outputs": [],
   "source": [
    "lowest_both= both_sexes.loc[0,:]\n",
    "lowest_both"
   ]
  },
  {
   "cell_type": "code",
   "execution_count": null,
   "id": "0e111304",
   "metadata": {},
   "outputs": [],
   "source": [
    "#Lowest female\n",
    "female= total_df.loc[total_df['Sex']=='Female']\n",
    "female= female.sort_values('Average Death Rate', ascending= True)\n",
    "female= female.reset_index(drop=True)\n",
    "lowest_female= female.loc[0,:]\n",
    "lowest_female"
   ]
  },
  {
   "cell_type": "code",
   "execution_count": null,
   "id": "c0f9242d",
   "metadata": {},
   "outputs": [],
   "source": [
    "male= total_df.loc[total_df['Sex']=='Male']\n",
    "male= male.sort_values('Average Death Rate', ascending= True)\n",
    "male= male.reset_index(drop=True)\n",
    "lowest_male= male.loc[0,:]\n",
    "lowest_male"
   ]
  },
  {
   "cell_type": "code",
   "execution_count": null,
   "id": "f3bb8f2d",
   "metadata": {},
   "outputs": [],
   "source": [
    "#top five\n",
    "top_five= both_sexes.loc[0:4,:]\n",
    "top_five"
   ]
  },
  {
   "cell_type": "code",
   "execution_count": null,
   "id": "03c440f2",
   "metadata": {},
   "outputs": [],
   "source": [
    "#Summary stats\n",
    "mean= np.mean(top_five['Average Death Rate'])\n",
    "print(f\"The average death rate for both sexes of the 5 countries with the lowest death rate is {mean}\")"
   ]
  },
  {
   "cell_type": "code",
   "execution_count": null,
   "id": "6e3b9164",
   "metadata": {},
   "outputs": [],
   "source": [
    "#summary stats for all total(both)\n",
    "mean_total= np.mean(both_sexes['Average Death Rate'])\n",
    "mean_total"
   ]
  },
  {
   "cell_type": "code",
   "execution_count": null,
   "id": "3e22f7d8",
   "metadata": {},
   "outputs": [],
   "source": [
    "#median\n",
    "median_total= np.median(both_sexes['Average Death Rate'])\n",
    "median_total"
   ]
  },
  {
   "cell_type": "code",
   "execution_count": null,
   "id": "39c2419c",
   "metadata": {},
   "outputs": [],
   "source": [
    "#Quartiles\n",
    "death_rate= both_sexes['Average Death Rate']\n",
    "quartiles = death_rate.quantile([.25,.5,.75])\n",
    "lowerq = quartiles[0.25]\n",
    "upperq = quartiles[0.75]\n",
    "iqr = upperq-lowerq\n",
    "\n",
    "print(f\"The lower quartile of average death rate is: {lowerq}\")\n",
    "print(f\"The upper quartile of average death rate is: {upperq}\")\n",
    "print(f\"The interquartile range of average death rate is: {iqr}\")\n",
    "print(f\"The the median of average death rate is: {quartiles[0.5]} \")\n",
    "\n",
    "lower_bound = lowerq - (1.5*iqr)\n",
    "upper_bound = upperq + (1.5*iqr)\n",
    "print(f\"Values below {lower_bound} could be outliers.\")\n",
    "print(f\"Values above {upper_bound} could be outliers.\")"
   ]
  },
  {
   "cell_type": "code",
   "execution_count": null,
   "id": "36f3004b",
   "metadata": {},
   "outputs": [],
   "source": [
    "#Vizualizations\n",
    "#Top 5 lowest\n",
    "%matplotlib notebook"
   ]
  },
  {
   "cell_type": "code",
   "execution_count": null,
   "id": "d6d265ad",
   "metadata": {},
   "outputs": [],
   "source": [
    "fig, ax= plt.subplots()\n",
    "female= [5.09, 6.44, 6.55, 6.31, 6.48]\n",
    "male= [10.37, 9.42, 9.79, 10.13, 10.00]\n",
    "both=[7.44, 7.86, 8.08, 8.11, 8.16]\n",
    "index=['Finland', 'Norway', 'Sweden', 'Canada', 'Iceland']\n",
    "fig_1_df= pd.DataFrame({'Female':female,\n",
    "                    'Male': male, 'Both Sexes': both}, index=index)\n",
    "fig_1_df\n",
    "\n",
    "plot=fig_1_df.plot(kind='bar')\n",
    "plt.title('Countries with the Lowest Average Death Rate by Both Sexes')\n",
    "plt.xlabel('Country')\n",
    "plt.ylabel('Average Death Rate')\n",
    "plt.tight_layout()\n",
    "plt.show()"
   ]
  },
  {
   "cell_type": "code",
   "execution_count": null,
   "id": "370d104e",
   "metadata": {},
   "outputs": [],
   "source": [
    "%matplotlib notebook"
   ]
  },
  {
   "cell_type": "code",
   "execution_count": null,
   "id": "f4091c26",
   "metadata": {},
   "outputs": [],
   "source": [
    "#lowest female vs lowest male line\n",
    "plt.figure(1)\n",
    "x_axis= ['Finland', 'Norway', 'Sweden', 'Canada', 'Iceland']\n",
    "f_y_axis= [5.09, 6.44, 6.55, 6.31, 6.48]\n",
    "m_y_axis= [10.37, 9.42, 9.79, 10.13, 10.00]\n",
    "female, = plt.plot(x_axis, f_y_axis, marker=\"o\", color='blue', label=\"Female\")\n",
    "male, = plt.plot(x_axis, m_y_axis, marker=\"o\", color=\"Orange\", label=\"Male\")\n",
    "plt.legend(handles=[female, male], loc=\"best\")\n",
    "plt.title(\"Male vs Female Death Rates\")\n",
    "plt.xlabel(\"Country\")\n",
    "plt.ylabel(\"Average Death Rate\")\n",
    "plt.grid()\n",
    "plt.show()"
   ]
  },
  {
   "cell_type": "code",
   "execution_count": null,
   "id": "0f7cf073",
   "metadata": {},
   "outputs": [],
   "source": []
  }
 ],
 "metadata": {
  "kernelspec": {
   "display_name": "Python 3 (ipykernel)",
   "language": "python",
   "name": "python3"
  },
  "language_info": {
   "codemirror_mode": {
    "name": "ipython",
    "version": 3
   },
   "file_extension": ".py",
   "mimetype": "text/x-python",
   "name": "python",
   "nbconvert_exporter": "python",
   "pygments_lexer": "ipython3",
   "version": "3.7.7"
  }
 },
 "nbformat": 4,
 "nbformat_minor": 5
}
